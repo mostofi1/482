{
 "cells": [
  {
   "cell_type": "code",
   "execution_count": 2,
   "metadata": {},
   "outputs": [
    {
     "data": {
      "text/plain": [
       "42005.48"
      ]
     },
     "execution_count": 2,
     "metadata": {},
     "output_type": "execute_result"
    }
   ],
   "source": [
    "fb_pos=106352+13150+26584+19613+41418+4682+19360+6385+75049+4838+118122+123406+25987+5714+30343+3000+53334+22109+36309+11952+25858+115342+2073+79496+79661\n",
    "fb_pos/25"
   ]
  },
  {
   "cell_type": "code",
   "execution_count": 134,
   "metadata": {},
   "outputs": [],
   "source": [
    "base_other = [94.14,94.14,94.14,94.06,96.44,95.12,94.3,94.3,94.3,94.15,93.63,94.19,93.43]\n",
    "fb_pos_vec = [106352,106352,13150,26584,19613,41418,4682,19360,6385,75049,4838,118122,118122,123406,123406,123406,25987,5714,30343,3000,3000,53334,53334,22109,36309,11952,25858,115342,2073,79496,79661]\n",
    "base = [94.14, 94.14,94.14,94.14,94.0,96.58,95.62,93.48,94.3,94.3, 94.0,93.11,94.75]\n",
    "fb_neg = [173420,173420,24608,48773,38239,71131,8055,36816,11244,143521,7366,236042,236042,191797,191797,191797,40858,95371,53471,5602,5602,85321,85321,41606,67493,21922,46510,201473,3647,155681,152571]\n",
    "wal_neg = [75,75,9,23,15,33,4,20,10,63,1,75,75,56,56,56,10,34,18,4,4,47,47,18,23,9,21,78,12,80,56]\n",
    "wal_pos = [35,35,5,14,5,13,13,11,3,27,0,28,28,21,21,21,11,9,4,0,0,16,16,3,12,6,8,15,5,30,37]\n",
    "count = 0\n",
    "real_pos = []\n",
    "real_base = []\n",
    "real_neg = []\n",
    "real_ = []\n",
    "for i in fb_pos_vec:\n",
    "    count = count + 1\n",
    "    thing = [i,count]\n",
    "    real_pos.append(thing)\n",
    "for i in base:\n",
    "    count = count + 1\n",
    "    thing = [i,count]\n",
    "    real_base.append(thing)\n",
    "for i in base:\n",
    "    count = count + 1\n",
    "    thing = [i,count]\n",
    "    real_neg.append(thing)\n",
    "    \n",
    "for i in wal_neg:\n",
    "    count = count + 1\n",
    "    thing = [i,count]\n",
    "    real_.append(thing)\n"
   ]
  },
  {
   "cell_type": "code",
   "execution_count": 102,
   "metadata": {},
   "outputs": [],
   "source": [
    "fb_stock = [94.14,94.14,94.14,94.06,96.44,95.12,94.3,94.3,94.3,94.15,93.63,94.19,93.43,94.42,94.42,94.42,93.93,95.17,95.31,90.56,86.06,86.06,86.06,82.09,83,87.19,87.19,91.01,89.43,89.43,89.43]\n",
    "wal_stock = [65.43,65.43,65.43,65.5,67.09,66.44,65.03,65.03,65.03,65.24,65.65,66.25,65.82,66.06,66.06,66.06,65.63,63.42,62.59,62.46,60.73,60.73,60.73,58.37,57.59,59.17,60.31,59.27,59.08,59.08,59.08]"
   ]
  },
  {
   "cell_type": "code",
   "execution_count": 128,
   "metadata": {},
   "outputs": [
    {
     "name": "stdout",
     "output_type": "stream",
     "text": [
      "31\n",
      "31\n",
      "13\n",
      "31\n",
      "31\n"
     ]
    }
   ],
   "source": [
    "print(len(real_pos))\n",
    "print(len(fb_stock))\n",
    "print(len(base))\n",
    "print(len(wal_stock))\n",
    "print(len(real_))"
   ]
  },
  {
   "cell_type": "code",
   "execution_count": 135,
   "metadata": {},
   "outputs": [],
   "source": [
    "import numpy as np\n",
    "numInstances = 31\n",
    "numTrain = 9   # number of training instances\n",
    "numTest = numInstances - numTrain\n",
    "\n",
    "#real = np.array(real_pos)\n",
    "#real.reshape(-1,1)\n",
    "#X_train = real[:-numTest]\n",
    "#X_test = real[-numTest:]\n",
    "#y_train = fb_stock[:-numTest]\n",
    "#y_test = fb_stock[-numTest:]\n",
    "\n",
    "\n",
    "#numInstances = 13\n",
    "#numTrain = 4   # number of training instances\n",
    "#numTest = numInstances - numTrain\n",
    "\n",
    "#real = np.array(real_pos)\n",
    "#real.reshape(-1,1)\n",
    "#X_train = real_base[:-numTest]\n",
    "#X_test = real_base[-numTest:]\n",
    "#y_train = base[:-numTest]\n",
    "#y_test = base[-numTest:]\n",
    "\n",
    "#numInstances = 31\n",
    "#numTrain = 9   # number of training instances\n",
    "#numTest = numInstances - numTrain\n",
    "\n",
    "real = np.array(real_)\n",
    "real.reshape(-1,1)\n",
    "X_train = real[:-numTest]\n",
    "X_test = real[-numTest:]\n",
    "y_train = wal_stock[:-numTest]\n",
    "y_test = wal_stock[-numTest:]"
   ]
  },
  {
   "cell_type": "code",
   "execution_count": 136,
   "metadata": {},
   "outputs": [
    {
     "data": {
      "text/plain": [
       "LinearRegression(copy_X=True, fit_intercept=True, n_jobs=None,\n",
       "         normalize=False)"
      ]
     },
     "execution_count": 136,
     "metadata": {},
     "output_type": "execute_result"
    }
   ],
   "source": [
    "from sklearn import linear_model\n",
    "from sklearn.metrics import mean_squared_error, r2_score\n",
    "\n",
    "# Create linear regression object\n",
    "regr = linear_model.LinearRegression()\n",
    "\n",
    "# Fit regression model to the training set\n",
    "regr.fit(X_train, y_train)"
   ]
  },
  {
   "cell_type": "code",
   "execution_count": 137,
   "metadata": {},
   "outputs": [
    {
     "data": {
      "text/plain": [
       "Text(0, 0.5, 'Predicted values for y')"
      ]
     },
     "execution_count": 137,
     "metadata": {},
     "output_type": "execute_result"
    },
    {
     "data": {
      "image/png": "[encoded data removed]",
      "text/plain": [
       "<Figure size 432x288 with 1 Axes>"
      ]
     },
     "metadata": {
      "needs_background": "light"
     },
     "output_type": "display_data"
    }
   ],
   "source": [
    "import matplotlib\n",
    "# Apply model to the test set\n",
    "y_pred_test = regr.predict(X_test)\n",
    "\n",
    "# Comparing true versus predicted values\n",
    "matplotlib.pyplot.scatter(y_test, y_pred_test, color='black')\n",
    "matplotlib.pyplot.title('Comparing true and predicted values for test set')\n",
    "matplotlib.pyplot.xlabel('True values for y')\n",
    "matplotlib.pyplot.ylabel('Predicted values for y')"
   ]
  },
  {
   "cell_type": "code",
   "execution_count": 138,
   "metadata": {},
   "outputs": [
    {
     "name": "stdout",
     "output_type": "stream",
     "text": [
      "Root mean squared error = 3.2307\n",
      "R-squared = -0.1383\n"
     ]
    }
   ],
   "source": [
    "# Model evaluation\n",
    "print(\"Root mean squared error = %.4f\" % np.sqrt(mean_squared_error(y_test, y_pred_test)))\n",
    "print('R-squared = %.4f' % r2_score(y_test, y_pred_test))"
   ]
  },
  {
   "cell_type": "code",
   "execution_count": 68,
   "metadata": {},
   "outputs": [
    {
     "name": "stdout",
     "output_type": "stream",
     "text": [
      "Slope =  -4.4051794329484e-06\n",
      "Intercept =  94.75224673883775\n",
      "22 22\n"
     ]
    },
    {
     "ename": "ValueError",
     "evalue": "x and y must be the same size",
     "output_type": "error",
     "traceback": [
      "\u001b[0;31m---------------------------------------------------------------------------\u001b[0m",
      "\u001b[0;31mValueError\u001b[0m                                Traceback (most recent call last)",
      "\u001b[0;32m<ipython-input-68-8e9533ad4030>\u001b[0m in \u001b[0;36m<module>\u001b[0;34m\u001b[0m\n\u001b[1;32m      6\u001b[0m \u001b[0;31m# Plot outputs\u001b[0m\u001b[0;34m\u001b[0m\u001b[0;34m\u001b[0m\u001b[0;34m\u001b[0m\u001b[0m\n\u001b[1;32m      7\u001b[0m \u001b[0;31m# Comparing true versus predicted values\u001b[0m\u001b[0;34m\u001b[0m\u001b[0;34m\u001b[0m\u001b[0;34m\u001b[0m\u001b[0m\n\u001b[0;32m----> 8\u001b[0;31m \u001b[0mmatplotlib\u001b[0m\u001b[0;34m.\u001b[0m\u001b[0mpyplot\u001b[0m\u001b[0;34m.\u001b[0m\u001b[0mscatter\u001b[0m\u001b[0;34m(\u001b[0m\u001b[0mX_test\u001b[0m\u001b[0;34m,\u001b[0m \u001b[0my_test\u001b[0m\u001b[0;34m,\u001b[0m  \u001b[0mcolor\u001b[0m\u001b[0;34m=\u001b[0m\u001b[0;34m'black'\u001b[0m\u001b[0;34m)\u001b[0m\u001b[0;34m\u001b[0m\u001b[0;34m\u001b[0m\u001b[0m\n\u001b[0m\u001b[1;32m      9\u001b[0m \u001b[0;31m# Comparing true versus predicted values\u001b[0m\u001b[0;34m\u001b[0m\u001b[0;34m\u001b[0m\u001b[0;34m\u001b[0m\u001b[0m\n\u001b[1;32m     10\u001b[0m \u001b[0mmatplotlib\u001b[0m\u001b[0;34m.\u001b[0m\u001b[0mpyplot\u001b[0m\u001b[0;34m.\u001b[0m\u001b[0mplot\u001b[0m\u001b[0;34m(\u001b[0m\u001b[0mX_test\u001b[0m\u001b[0;34m,\u001b[0m \u001b[0my_pred_test\u001b[0m\u001b[0;34m,\u001b[0m \u001b[0mcolor\u001b[0m\u001b[0;34m=\u001b[0m\u001b[0;34m'blue'\u001b[0m\u001b[0;34m,\u001b[0m \u001b[0mlinewidth\u001b[0m\u001b[0;34m=\u001b[0m\u001b[0;36m3\u001b[0m\u001b[0;34m)\u001b[0m\u001b[0;34m\u001b[0m\u001b[0;34m\u001b[0m\u001b[0m\n",
      "\u001b[0;32m/anaconda3/lib/python3.7/site-packages/matplotlib/pyplot.py\u001b[0m in \u001b[0;36mscatter\u001b[0;34m(x, y, s, c, marker, cmap, norm, vmin, vmax, alpha, linewidths, verts, edgecolors, data, **kwargs)\u001b[0m\n\u001b[1;32m   2862\u001b[0m         \u001b[0mvmin\u001b[0m\u001b[0;34m=\u001b[0m\u001b[0mvmin\u001b[0m\u001b[0;34m,\u001b[0m \u001b[0mvmax\u001b[0m\u001b[0;34m=\u001b[0m\u001b[0mvmax\u001b[0m\u001b[0;34m,\u001b[0m \u001b[0malpha\u001b[0m\u001b[0;34m=\u001b[0m\u001b[0malpha\u001b[0m\u001b[0;34m,\u001b[0m \u001b[0mlinewidths\u001b[0m\u001b[0;34m=\u001b[0m\u001b[0mlinewidths\u001b[0m\u001b[0;34m,\u001b[0m\u001b[0;34m\u001b[0m\u001b[0;34m\u001b[0m\u001b[0m\n\u001b[1;32m   2863\u001b[0m         verts=verts, edgecolors=edgecolors, **({\"data\": data} if data\n\u001b[0;32m-> 2864\u001b[0;31m         is not None else {}), **kwargs)\n\u001b[0m\u001b[1;32m   2865\u001b[0m     \u001b[0msci\u001b[0m\u001b[0;34m(\u001b[0m\u001b[0m__ret\u001b[0m\u001b[0;34m)\u001b[0m\u001b[0;34m\u001b[0m\u001b[0;34m\u001b[0m\u001b[0m\n\u001b[1;32m   2866\u001b[0m     \u001b[0;32mreturn\u001b[0m \u001b[0m__ret\u001b[0m\u001b[0;34m\u001b[0m\u001b[0;34m\u001b[0m\u001b[0m\n",
      "\u001b[0;32m/anaconda3/lib/python3.7/site-packages/matplotlib/__init__.py\u001b[0m in \u001b[0;36minner\u001b[0;34m(ax, data, *args, **kwargs)\u001b[0m\n\u001b[1;32m   1808\u001b[0m                         \u001b[0;34m\"the Matplotlib list!)\"\u001b[0m \u001b[0;34m%\u001b[0m \u001b[0;34m(\u001b[0m\u001b[0mlabel_namer\u001b[0m\u001b[0;34m,\u001b[0m \u001b[0mfunc\u001b[0m\u001b[0;34m.\u001b[0m\u001b[0m__name__\u001b[0m\u001b[0;34m)\u001b[0m\u001b[0;34m,\u001b[0m\u001b[0;34m\u001b[0m\u001b[0;34m\u001b[0m\u001b[0m\n\u001b[1;32m   1809\u001b[0m                         RuntimeWarning, stacklevel=2)\n\u001b[0;32m-> 1810\u001b[0;31m             \u001b[0;32mreturn\u001b[0m \u001b[0mfunc\u001b[0m\u001b[0;34m(\u001b[0m\u001b[0max\u001b[0m\u001b[0;34m,\u001b[0m \u001b[0;34m*\u001b[0m\u001b[0margs\u001b[0m\u001b[0;34m,\u001b[0m \u001b[0;34m**\u001b[0m\u001b[0mkwargs\u001b[0m\u001b[0;34m)\u001b[0m\u001b[0;34m\u001b[0m\u001b[0;34m\u001b[0m\u001b[0m\n\u001b[0m\u001b[1;32m   1811\u001b[0m \u001b[0;34m\u001b[0m\u001b[0m\n\u001b[1;32m   1812\u001b[0m         inner.__doc__ = _add_data_doc(inner.__doc__,\n",
      "\u001b[0;32m/anaconda3/lib/python3.7/site-packages/matplotlib/axes/_axes.py\u001b[0m in \u001b[0;36mscatter\u001b[0;34m(self, x, y, s, c, marker, cmap, norm, vmin, vmax, alpha, linewidths, verts, edgecolors, **kwargs)\u001b[0m\n\u001b[1;32m   4180\u001b[0m         \u001b[0my\u001b[0m \u001b[0;34m=\u001b[0m \u001b[0mnp\u001b[0m\u001b[0;34m.\u001b[0m\u001b[0mma\u001b[0m\u001b[0;34m.\u001b[0m\u001b[0mravel\u001b[0m\u001b[0;34m(\u001b[0m\u001b[0my\u001b[0m\u001b[0;34m)\u001b[0m\u001b[0;34m\u001b[0m\u001b[0;34m\u001b[0m\u001b[0m\n\u001b[1;32m   4181\u001b[0m         \u001b[0;32mif\u001b[0m \u001b[0mx\u001b[0m\u001b[0;34m.\u001b[0m\u001b[0msize\u001b[0m \u001b[0;34m!=\u001b[0m \u001b[0my\u001b[0m\u001b[0;34m.\u001b[0m\u001b[0msize\u001b[0m\u001b[0;34m:\u001b[0m\u001b[0;34m\u001b[0m\u001b[0;34m\u001b[0m\u001b[0m\n\u001b[0;32m-> 4182\u001b[0;31m             \u001b[0;32mraise\u001b[0m \u001b[0mValueError\u001b[0m\u001b[0;34m(\u001b[0m\u001b[0;34m\"x and y must be the same size\"\u001b[0m\u001b[0;34m)\u001b[0m\u001b[0;34m\u001b[0m\u001b[0;34m\u001b[0m\u001b[0m\n\u001b[0m\u001b[1;32m   4183\u001b[0m \u001b[0;34m\u001b[0m\u001b[0m\n\u001b[1;32m   4184\u001b[0m         \u001b[0;32mif\u001b[0m \u001b[0ms\u001b[0m \u001b[0;32mis\u001b[0m \u001b[0;32mNone\u001b[0m\u001b[0;34m:\u001b[0m\u001b[0;34m\u001b[0m\u001b[0;34m\u001b[0m\u001b[0m\n",
      "\u001b[0;31mValueError\u001b[0m: x and y must be the same size"
     ]
    },
    {
     "data": {
      "image/png": "[encoded data removed]",
      "text/plain": [
       "<Figure size 432x288 with 1 Axes>"
      ]
     },
     "metadata": {
      "needs_background": "light"
     },
     "output_type": "display_data"
    }
   ],
   "source": [
    "# Display model parameters\n",
    "print('Slope = ', regr.coef_[0])\n",
    "print('Intercept = ', regr.intercept_)### Step 4: Postprocessing\n",
    "print(len(X_test), len(y_test))\n",
    "\n",
    "# Plot outputs\n",
    "# Comparing true versus predicted values\n",
    "matplotlib.pyplot.scatter(X_test, y_test,  color='black')\n",
    "# Comparing true versus predicted values\n",
    "matplotlib.pyplot.plot(X_test, y_pred_test, color='blue', linewidth=3)\n",
    "titlestr = 'Predicted Function: y = %.2fX + %.2f' % (regr.coef_[0], regr.intercept_)\n",
    "# Comparing true versus predicted values\n",
    "matplotlib.pyplot.title(titlestr)\n",
    "# Comparing true versus predicted values\n",
    "matplotlib.pyplot.xlabel('X')\n",
    "# Comparing true versus predicted values\n",
    "matplotlib.pyplot.ylabel('y')\n"
   ]
  },
  {
   "cell_type": "code",
   "execution_count": null,
   "metadata": {},
   "outputs": [],
   "source": []
  }
 ],
 "metadata": {
  "kernelspec": {
   "display_name": "Python 3",
   "language": "python",
   "name": "python3"
  },
  "language_info": {
   "codemirror_mode": {
    "name": "ipython",
    "version": 3
   },
   "file_extension": ".py",
   "mimetype": "text/x-python",
   "name": "python",
   "nbconvert_exporter": "python",
   "pygments_lexer": "ipython3",
   "version": "3.7.1"
  }
 },
 "nbformat": 4,
 "nbformat_minor": 2
}
